{
 "cells": [
  {
   "cell_type": "code",
   "execution_count": null,
   "metadata": {
    "collapsed": true
   },
   "outputs": [],
   "source": [
    "import requests, json, jwt\n",
    "import base64\n",
    "from ipywidgets import widgets, Layout\n",
    "from IPython.display import display\n",
    "from IPython.display import HTML\n",
    "\n",
    "requests.packages.urllib3.disable_warnings()"
   ]
  },
  {
   "cell_type": "code",
   "execution_count": null,
   "metadata": {
    "collapsed": true
   },
   "outputs": [],
   "source": [
    "tenant = \"\"\n",
    "domain = \"\"\n",
    "port = \"8943\"\n",
    "\n",
    "baseurl = 'https://' + tenant + '.' + domain + ':' + port\n",
    "configurl =  baseurl + '/.well-known/idcs-configuration'\n",
    "response = requests.get(configurl, verify=False).text\n",
    "config = json.loads(response)"
   ]
  },
  {
   "cell_type": "code",
   "execution_count": null,
   "metadata": {
    "collapsed": true
   },
   "outputs": [],
   "source": [
    "clientId = \"\"\n",
    "clientSecret = \"\""
   ]
  },
  {
   "cell_type": "code",
   "execution_count": null,
   "metadata": {
    "collapsed": true
   },
   "outputs": [],
   "source": [
    "userName = \"\"\n",
    "userPwd = \"\""
   ]
  },
  {
   "cell_type": "code",
   "execution_count": null,
   "metadata": {
    "collapsed": true
   },
   "outputs": [],
   "source": [
    "tokenurl = config[\"openid-configuration\"][\"token_endpoint\"]\n",
    "\n",
    "grant_type = \"client_credentials\"\n",
    "scope = \"urn:opc:idm:__myscopes__\"\n",
    "\n",
    "basicauthHeader = base64.b64encode(bytes(clientId + \":\" + clientSecret)) \n",
    "reqdata = {'grant_type': grant_type, 'scope' : scope}\n",
    "reqheaders = {'Authorization': 'Basic ' + basicauthHeader.decode(\"utf-8\"), 'content-type': 'application/x-www-form-urlencoded'}\n",
    "\n",
    "response = requests.post(tokenurl, data = reqdata, headers = reqheaders, verify=False)\n",
    "accesstoken = response.json()[\"access_token\"]\n",
    "headers = {'Authorization': 'Bearer ' + accesstoken, 'content-type': 'application/json'}\n",
    "accesstokenD = widgets.Accordion(children=[widgets.Textarea(value=accesstoken, layout=Layout(width='100%', height='400px'))])\n",
    "accesstokenD.set_title(0, 'Access Token')\n",
    "accesstokenD.selected_index = None\n",
    "display(accesstokenD)"
   ]
  },
  {
   "cell_type": "code",
   "execution_count": null,
   "metadata": {
    "collapsed": true
   },
   "outputs": [],
   "source": [
    "callurl1 = baseurl + \"/sso/v1/sdk/authenticate\"\n",
    "print(callurl1)\n",
    "response = requests.get(callurl1, headers = headers, verify=False)\n",
    "print(response.text)\n",
    "requestState = json.loads(response.text)[\"requestState\"]"
   ]
  },
  {
   "cell_type": "code",
   "execution_count": null,
   "metadata": {
    "collapsed": true
   },
   "outputs": [],
   "source": [
    "callurl2 = baseurl + \"/sso/v1/sdk/authenticate\"\n",
    "payload2 = {\n",
    "            \"op\":\"credSubmit\",\n",
    "            \"credentials\":{\n",
    "                \"username\": userName,\n",
    "                \"password\": userPwd\n",
    "            },\n",
    "            \"requestState\":requestState\n",
    "           }\n",
    "response2 = requests.post(callurl2, headers = headers, data =json.dumps(payload2),  verify=False)\n",
    "authtoken = json.loads(response2.text)[\"authnToken\"]\n",
    "print(response2.text)\n",
    "print(authtoken)"
   ]
  },
  {
   "cell_type": "code",
   "execution_count": null,
   "metadata": {
    "collapsed": true
   },
   "outputs": [],
   "source": [
    "jwtoken = jwt.decode(authtoken, verify=False)\n",
    "\n",
    "jwtokenD = widgets.Accordion(children=[widgets.Textarea(value=json.dumps(jwtoken, indent=1), layout=Layout(width='100%', height='600px'))])\n",
    "jwtokenD.set_title(0, 'Inspect Token')\n",
    "jwtokenD.selected_index = None\n",
    "display(jwtokenD)\n"
   ]
  },
  {
   "cell_type": "code",
   "execution_count": null,
   "metadata": {
    "collapsed": true
   },
   "outputs": [],
   "source": []
  }
 ],
 "metadata": {
  "kernelspec": {
   "display_name": "Python 2",
   "language": "python",
   "name": "python2"
  },
  "language_info": {
   "codemirror_mode": {
    "name": "ipython",
    "version": 2
   },
   "file_extension": ".py",
   "mimetype": "text/x-python",
   "name": "python",
   "nbconvert_exporter": "python",
   "pygments_lexer": "ipython2",
   "version": "2.7.14"
  }
 },
 "nbformat": 4,
 "nbformat_minor": 2
}
